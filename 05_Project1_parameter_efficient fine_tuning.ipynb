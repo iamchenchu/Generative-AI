{
 "cells": [
  {
   "cell_type": "markdown",
   "id": "3493ad9e-8304-403a-8aca-ead46a0625e9",
   "metadata": {},
   "source": [
    "# Lightweight Fine-Tuning Project "
   ]
  },
  {
   "cell_type": "code",
   "execution_count": null,
   "id": "5c353cdb-d8cb-4226-b32c-a20e05957987",
   "metadata": {},
   "outputs": [],
   "source": []
  }
 ],
 "metadata": {
  "kernelspec": {
   "display_name": "Python 3 (ipykernel)",
   "language": "python",
   "name": "python3"
  },
  "language_info": {
   "codemirror_mode": {
    "name": "ipython",
    "version": 3
   },
   "file_extension": ".py",
   "mimetype": "text/x-python",
   "name": "python",
   "nbconvert_exporter": "python",
   "pygments_lexer": "ipython3",
   "version": "3.8.18"
  }
 },
 "nbformat": 4,
 "nbformat_minor": 5
}
